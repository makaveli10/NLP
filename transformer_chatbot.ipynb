{
  "nbformat": 4,
  "nbformat_minor": 0,
  "metadata": {
    "colab": {
      "name": "transformer_chatbot.ipynb",
      "version": "0.3.2",
      "provenance": [],
      "include_colab_link": true
    },
    "kernelspec": {
      "name": "python3",
      "display_name": "Python 3"
    },
    "accelerator": "GPU"
  },
  "cells": [
    {
      "cell_type": "markdown",
      "metadata": {
        "id": "view-in-github",
        "colab_type": "text"
      },
      "source": [
        "<a href=\"https://colab.research.google.com/github/makaveli10/NLP/blob/master/transformer_chatbot.ipynb\" target=\"_parent\"><img src=\"https://colab.research.google.com/assets/colab-badge.svg\" alt=\"Open In Colab\"/></a>"
      ]
    },
    {
      "cell_type": "markdown",
      "metadata": {
        "id": "teiLKc8DSqMw",
        "colab_type": "text"
      },
      "source": [
        "This trains a transformer model to be a chatbot. Please refer to the original paper  [Attention is all you need](https://arxiv.org/abs/1706.03762) for detailed information about the transofrmer. The core idea behind the transformer is self attention. "
      ]
    },
    {
      "cell_type": "code",
      "metadata": {
        "id": "36iZIVWzTe0e",
        "colab_type": "code",
        "colab": {
          "base_uri": "https://localhost:8080/",
          "height": 717
        },
        "outputId": "0f1c25f0-0f98-4a8b-a215-7161edd029b4"
      },
      "source": [
        "from __future__ import absolute_import, division, unicode_literals, print_function\n",
        "\n",
        "!pip install tf-nightly-gpu-2.0-preview==2.0.0.dev20190520\n",
        "import tensorflow as tf\n",
        "\n",
        "!pip install tfds-nightly\n",
        "import tensorflow_datasets as tfds\n",
        "\n",
        "import os\n",
        "import re\n",
        "import numpy as np\n",
        "\n",
        "import matplotlib.pyplot as plt"
      ],
      "execution_count": 9,
      "outputs": [
        {
          "output_type": "stream",
          "text": [
            "Requirement already satisfied: tf-nightly-gpu-2.0-preview==2.0.0.dev20190520 in /usr/local/lib/python3.6/dist-packages (2.0.0.dev20190520)\n",
            "Requirement already satisfied: numpy<2.0,>=1.14.5 in /usr/local/lib/python3.6/dist-packages (from tf-nightly-gpu-2.0-preview==2.0.0.dev20190520) (1.16.3)\n",
            "Requirement already satisfied: six>=1.10.0 in /usr/local/lib/python3.6/dist-packages (from tf-nightly-gpu-2.0-preview==2.0.0.dev20190520) (1.12.0)\n",
            "Requirement already satisfied: protobuf>=3.6.1 in /usr/local/lib/python3.6/dist-packages (from tf-nightly-gpu-2.0-preview==2.0.0.dev20190520) (3.7.1)\n",
            "Requirement already satisfied: keras-preprocessing>=1.0.5 in /usr/local/lib/python3.6/dist-packages (from tf-nightly-gpu-2.0-preview==2.0.0.dev20190520) (1.0.9)\n",
            "Requirement already satisfied: termcolor>=1.1.0 in /usr/local/lib/python3.6/dist-packages (from tf-nightly-gpu-2.0-preview==2.0.0.dev20190520) (1.1.0)\n",
            "Requirement already satisfied: tb-nightly<1.15.0a0,>=1.14.0a0 in /usr/local/lib/python3.6/dist-packages (from tf-nightly-gpu-2.0-preview==2.0.0.dev20190520) (1.14.0a20190525)\n",
            "Requirement already satisfied: google-pasta>=0.1.6 in /usr/local/lib/python3.6/dist-packages (from tf-nightly-gpu-2.0-preview==2.0.0.dev20190520) (0.1.6)\n",
            "Requirement already satisfied: gast>=0.2.0 in /usr/local/lib/python3.6/dist-packages (from tf-nightly-gpu-2.0-preview==2.0.0.dev20190520) (0.2.2)\n",
            "Requirement already satisfied: wrapt>=1.11.1 in /usr/local/lib/python3.6/dist-packages (from tf-nightly-gpu-2.0-preview==2.0.0.dev20190520) (1.11.1)\n",
            "Requirement already satisfied: keras-applications>=1.0.6 in /usr/local/lib/python3.6/dist-packages (from tf-nightly-gpu-2.0-preview==2.0.0.dev20190520) (1.0.7)\n",
            "Requirement already satisfied: tensorflow-estimator-2.0-preview in /usr/local/lib/python3.6/dist-packages (from tf-nightly-gpu-2.0-preview==2.0.0.dev20190520) (1.14.0.dev2019052500)\n",
            "Requirement already satisfied: wheel>=0.26 in /usr/local/lib/python3.6/dist-packages (from tf-nightly-gpu-2.0-preview==2.0.0.dev20190520) (0.33.4)\n",
            "Requirement already satisfied: astor>=0.6.0 in /usr/local/lib/python3.6/dist-packages (from tf-nightly-gpu-2.0-preview==2.0.0.dev20190520) (0.8.0)\n",
            "Requirement already satisfied: absl-py>=0.7.0 in /usr/local/lib/python3.6/dist-packages (from tf-nightly-gpu-2.0-preview==2.0.0.dev20190520) (0.7.1)\n",
            "Requirement already satisfied: grpcio>=1.8.6 in /usr/local/lib/python3.6/dist-packages (from tf-nightly-gpu-2.0-preview==2.0.0.dev20190520) (1.15.0)\n",
            "Requirement already satisfied: setuptools in /usr/local/lib/python3.6/dist-packages (from protobuf>=3.6.1->tf-nightly-gpu-2.0-preview==2.0.0.dev20190520) (41.0.1)\n",
            "Requirement already satisfied: markdown>=2.6.8 in /usr/local/lib/python3.6/dist-packages (from tb-nightly<1.15.0a0,>=1.14.0a0->tf-nightly-gpu-2.0-preview==2.0.0.dev20190520) (3.1.1)\n",
            "Requirement already satisfied: werkzeug>=0.11.15 in /usr/local/lib/python3.6/dist-packages (from tb-nightly<1.15.0a0,>=1.14.0a0->tf-nightly-gpu-2.0-preview==2.0.0.dev20190520) (0.15.4)\n",
            "Requirement already satisfied: h5py in /usr/local/lib/python3.6/dist-packages (from keras-applications>=1.0.6->tf-nightly-gpu-2.0-preview==2.0.0.dev20190520) (2.8.0)\n",
            "Requirement already satisfied: tfds-nightly in /usr/local/lib/python3.6/dist-packages (1.0.2.dev201905220105)\n",
            "Requirement already satisfied: absl-py in /usr/local/lib/python3.6/dist-packages (from tfds-nightly) (0.7.1)\n",
            "Requirement already satisfied: promise in /usr/local/lib/python3.6/dist-packages (from tfds-nightly) (2.2.1)\n",
            "Requirement already satisfied: requests in /usr/local/lib/python3.6/dist-packages (from tfds-nightly) (2.21.0)\n",
            "Requirement already satisfied: future in /usr/local/lib/python3.6/dist-packages (from tfds-nightly) (0.16.0)\n",
            "Requirement already satisfied: numpy in /usr/local/lib/python3.6/dist-packages (from tfds-nightly) (1.16.3)\n",
            "Requirement already satisfied: six in /usr/local/lib/python3.6/dist-packages (from tfds-nightly) (1.12.0)\n",
            "Requirement already satisfied: protobuf>=3.6.1 in /usr/local/lib/python3.6/dist-packages (from tfds-nightly) (3.7.1)\n",
            "Requirement already satisfied: tqdm in /usr/local/lib/python3.6/dist-packages (from tfds-nightly) (4.28.1)\n",
            "Requirement already satisfied: wrapt in /usr/local/lib/python3.6/dist-packages (from tfds-nightly) (1.11.1)\n",
            "Requirement already satisfied: psutil in /usr/local/lib/python3.6/dist-packages (from tfds-nightly) (5.4.8)\n",
            "Requirement already satisfied: dill in /usr/local/lib/python3.6/dist-packages (from tfds-nightly) (0.2.9)\n",
            "Requirement already satisfied: tensorflow-metadata in /usr/local/lib/python3.6/dist-packages (from tfds-nightly) (0.13.0)\n",
            "Requirement already satisfied: termcolor in /usr/local/lib/python3.6/dist-packages (from tfds-nightly) (1.1.0)\n",
            "Requirement already satisfied: chardet<3.1.0,>=3.0.2 in /usr/local/lib/python3.6/dist-packages (from requests->tfds-nightly) (3.0.4)\n",
            "Requirement already satisfied: certifi>=2017.4.17 in /usr/local/lib/python3.6/dist-packages (from requests->tfds-nightly) (2019.3.9)\n",
            "Requirement already satisfied: urllib3<1.25,>=1.21.1 in /usr/local/lib/python3.6/dist-packages (from requests->tfds-nightly) (1.24.3)\n",
            "Requirement already satisfied: idna<2.9,>=2.5 in /usr/local/lib/python3.6/dist-packages (from requests->tfds-nightly) (2.8)\n",
            "Requirement already satisfied: setuptools in /usr/local/lib/python3.6/dist-packages (from protobuf>=3.6.1->tfds-nightly) (41.0.1)\n",
            "Requirement already satisfied: googleapis-common-protos in /usr/local/lib/python3.6/dist-packages (from tensorflow-metadata->tfds-nightly) (1.5.10)\n"
          ],
          "name": "stdout"
        }
      ]
    },
    {
      "cell_type": "markdown",
      "metadata": {
        "id": "dro9fB0IW4Pd",
        "colab_type": "text"
      },
      "source": [
        "Create dataset pipeline with tf.data. Download cornell moview dialogues which are 220k conversational exchanges between 10k pair of movie characters. \n",
        "\n",
        "movie_conversations.txt contains list of the conversation IDs and movie_lines.text contains the text of assoicated with each conversation ID. For further information regarding the dataset, please check the README file in the zip file."
      ]
    },
    {
      "cell_type": "code",
      "metadata": {
        "id": "_REe6-k7Wb68",
        "colab_type": "code",
        "colab": {}
      },
      "source": [
        "# download file using tensorflow keras util\n",
        "path_to_zip = tf.keras.utils.get_file('cornell_movie_dialogs.zip',\n",
        "                                      origin= 'http://www.cs.cornell.edu/~cristian/data/cornell_movie_dialogs_corpus.zip',\n",
        "                                      extract=True)\n",
        "\n",
        "path_to_dataset = os.path.join(os.path.dirname(path_to_zip), \"cornell movie-dialogs corpus\")\n",
        "\n",
        "path_to_movie_lines = os.path.join(path_to_dataset, 'movie_lines.txt')\n",
        "path_to_movie_conversations = os.path.join(path_to_dataset, 'movie_conversations.txt')"
      ],
      "execution_count": 0,
      "outputs": []
    },
    {
      "cell_type": "markdown",
      "metadata": {
        "id": "oHRk5uJBcGJ1",
        "colab_type": "text"
      },
      "source": [
        "**Dataset Pipeline**\n",
        "\n",
        "We are going to build the input pipeline with the following steps:\n",
        "\n",
        "\n",
        "*   Preprocess each sentence by removing special characters in each sentence.\n",
        "*   Build tokenizer (map text to ID and ID to text) with TensorFlow Datasets SubwordTextEncoder.\n",
        "*   Tokenize each sentence and add START_TOKEN and END_TOKEN to indicate the start and end of each sentence.\n",
        "*   Filter out sentences that contain more than MAX_LENGTH tokens.\n",
        "*   Build tf.data.Dataset with the tokenized sentences\n"
      ]
    },
    {
      "cell_type": "code",
      "metadata": {
        "id": "iztPycC2YsUE",
        "colab_type": "code",
        "colab": {}
      },
      "source": [
        "MAX_SAMPLES = 50000\n",
        "\n",
        "# remove special characters\n",
        "def preprocess_sentence(sentence):\n",
        "  sentence = sentence.lower().strip()\n",
        "  # substitute space before each punctuation i.e. creating a space between\n",
        "  # word and punctuatuion following it\n",
        "  sentence = re.sub(r\"([?.!,])\", r\" \\1 \", sentence)\n",
        "  sentence = re.sub(r'[\" \"]+', \" \", sentence)\n",
        "  \n",
        "  # replacing everything with space except (a-z, A-z, \"?\", \",\", \".\", \"!\")\n",
        "  sentence = re.sub(r\"[^a-zA-Z?.!,]+\", \" \", sentence)\n",
        "  sentence = sentence.strip()\n",
        "  return sentence\n",
        "\n",
        "def load_conv():\n",
        "  with open(path_to_movie_lines, errors='ignore') as f:\n",
        "    lines = f.readlines()\n",
        "  id_to_lines = {}\n",
        "  for line in lines:\n",
        "    parts = line.replace('\\n', '').split(' +++$+++ ')\n",
        "    id_to_lines[parts[0]] = parts[4]\n",
        "  \n",
        "  inputs, outputs = [], []\n",
        "  with open(path_to_movie_conversations, 'r') as file:\n",
        "    lines = file.readlines()\n",
        "  for line in lines:\n",
        "    parts = line.replace('\\n', '').split(' +++$+++ ')\n",
        "    # get conversation in a list of line ID\n",
        "    conversation = [line[1:-1] for line in parts[3][1:-1].split(', ')]\n",
        "    for i in range(len(conversation)-1):\n",
        "      inputs.append(preprocess_sentence(id_to_lines[conversation[i]]))\n",
        "      outputs.append(preprocess_sentence(id_to_lines[conversation[i+1]]))\n",
        "      if len(inputs) >= MAX_SAMPLES:\n",
        "        return inputs, outputs\n",
        "  return inputs, outputs\n",
        "\n",
        "ques, ans = load_conv()"
      ],
      "execution_count": 0,
      "outputs": []
    },
    {
      "cell_type": "code",
      "metadata": {
        "id": "-xEncXef70f1",
        "colab_type": "code",
        "colab": {
          "base_uri": "https://localhost:8080/",
          "height": 51
        },
        "outputId": "694b6762-ecf6-4b13-9cdd-ac23311349b0"
      },
      "source": [
        "print('Sample question: {}'.format(ques[20]))\n",
        "print('Sample answer: {}'.format(ans[20]))"
      ],
      "execution_count": 29,
      "outputs": [
        {
          "output_type": "stream",
          "text": [
            "Sample question: i really , really , really wanna go , but i can t . not unless my sister goes .\n",
            "Sample answer: i m workin on it . but she doesn t seem to be goin for him .\n"
          ],
          "name": "stdout"
        }
      ]
    },
    {
      "cell_type": "code",
      "metadata": {
        "id": "L22Q5OVd1WXW",
        "colab_type": "code",
        "colab": {}
      },
      "source": [
        "# Build tokenizer (map text to ID and ID to text) with TensorFlow Datasets SubwordTextEncoder\n",
        "tokenizer = tfds.features.text.SubwordTextEncoder.build_from_corpus(ques + ans, target_vocab_size=2**13)\n",
        "# define start and end token\n",
        "START_TOKEN, END_TOKEN = [tokenizer.vocab_size], [tokenizer.vocab_size + 1]\n",
        "vocab_size = tokenizer.vocab_size + 2"
      ],
      "execution_count": 0,
      "outputs": []
    },
    {
      "cell_type": "code",
      "metadata": {
        "id": "cidSxDQQ5Fsv",
        "colab_type": "code",
        "colab": {
          "base_uri": "https://localhost:8080/",
          "height": 54
        },
        "outputId": "d6c0db8b-7495-4e41-fdf5-b0c5b206141b"
      },
      "source": [
        "# tokenize sample question\n",
        "print('Tokenized sample question: {}'.format(tokenizer.encode(ques[20])))"
      ],
      "execution_count": 33,
      "outputs": [
        {
          "output_type": "stream",
          "text": [
            "Tokenized sample question: [4, 281, 3, 281, 3, 143, 395, 176, 3, 42, 4, 38, 8191, 2, 37, 873, 27, 2031, 3096, 1]\n"
          ],
          "name": "stdout"
        }
      ]
    },
    {
      "cell_type": "code",
      "metadata": {
        "id": "7BFnOTtS7Cvu",
        "colab_type": "code",
        "colab": {}
      },
      "source": [
        "MAX_LENGTH = 40\n",
        "\n",
        "# Pad tokenized sentences to MAX_LENGTH\n",
        "def tokenize_and_pad_seq(inputs, outputs):\n",
        "  tokenize_inp, tokenize_out = [], []\n",
        "  for sent_1, sent_2 in zip(inputs, outputs):\n",
        "    sent_1 = START_TOKEN + tokenizer.encode(sent_1) + END_TOKEN\n",
        "    sent_2 = START_TOKEN + tokenizer.encode(sent_2) + END_TOKEN\n",
        "    if len(sent_1) <= MAX_LENGTH and len(sent_2) <= MAX_LENGTH:\n",
        "      tokenize_inp.append(sent_1)\n",
        "      tokenize_out.append(sent_2)\n",
        "    \n",
        "  # pad smaller sequences\n",
        "  tokenize_inp = tf.keras.preprocessing.sequence.pad_sequences(tokenize_inp,\n",
        "                                                               maxlen=MAX_LENGTH,\n",
        "                                                               padding='post')\n",
        "  tokenize_out = tf.keras.preprocessing.sequence.pad_sequences(tokenize_out,\n",
        "                                                               maxlen=MAX_LENGTH,\n",
        "                                                               padding='post')\n",
        "  return tokenize_inp, tokenize_out\n",
        "\n",
        "ques, ans = tokenize_and_pad_seq(ques, ans)"
      ],
      "execution_count": 0,
      "outputs": []
    },
    {
      "cell_type": "code",
      "metadata": {
        "id": "mL6o028dBd0f",
        "colab_type": "code",
        "colab": {}
      },
      "source": [
        "BATCH_SIZE = 64\n",
        "BUFFER_SIZE = 20000\n",
        "\n",
        "# decoder inputs use the previous target as input\n",
        "# remove START_TOKEN from targets\n",
        "dataset = tf.data.Dataset.from_tensor_slices((\n",
        "    {\n",
        "      'inputs' : ques,\n",
        "      'dec_inputs' : ans[:, :-1]\n",
        "    },\n",
        "    {\n",
        "      'outputs' : ans[:, 1:] \n",
        "    }\n",
        "))\n",
        "\n",
        "dataset = dataset.cache()\n",
        "dataset = dataset.shuffle(BUFFER_SIZE)\n",
        "dataset = dataset.batch(BATCH_SIZE)\n",
        "dataset = dataset.prefetch(tf.data.experimental.AUTOTUNE)"
      ],
      "execution_count": 0,
      "outputs": []
    },
    {
      "cell_type": "markdown",
      "metadata": {
        "id": "eNvtehd0HF7X",
        "colab_type": "text"
      },
      "source": [
        "**SCALED DOT PRODUCT ATTENTION**\n",
        "\n",
        "This attention takes three inputs i.e query, key and value :\n",
        "\n",
        "*Attention(Q, K, V) = softmax((QK(T))/sqrt(dim(Key))) * V* \n",
        "\n",
        "The softmax normalization depends on key, its values decides the importance given to the query, which is then ,ultiplied by value vector to flush out irrelevant words and keep only those to be focused on.\n",
        "\n",
        "The mask is multiplied with -1e9 (close to negative infinity). This is done because the mask is summed with the scaled matrix multiplication of query and key and is applied immediately before a softmax. The goal is to zero out these cells, and large negative inputs to softmax are near zero in the output.\n",
        "\n"
      ]
    },
    {
      "cell_type": "code",
      "metadata": {
        "id": "7Dyh2VfgGPyA",
        "colab_type": "code",
        "colab": {}
      },
      "source": [
        "def scaled_dot_attention(query, key, values, mask):\n",
        "  mul_qk = tf.matmul(query, key, transpose_b=True)\n",
        "  dim_k = tf.cast(tf.shape(key)[-1], tf.float32)\n",
        "  logits = mul_qk / tf.math.sqrt(dim_k)\n",
        "  \n",
        "  # add the mask zero out padding tokens.\n",
        "  if mask is not None:\n",
        "    logits += (mask * 1e-9)\n",
        "    \n",
        "  soft_attention = tf.nn.softmax(logits)\n",
        "  \n",
        "  return tf.matmul(soft_attention, values)"
      ],
      "execution_count": 0,
      "outputs": []
    },
    {
      "cell_type": "markdown",
      "metadata": {
        "id": "d1stNTaSQY3j",
        "colab_type": "text"
      },
      "source": [
        "**Multi Head attention layer**\n",
        "\n",
        "Using Model subclassing to implement our MultiHeadAttention layer.\n",
        "\n",
        "\n",
        "*   Linear layer and split into head\n",
        "*   Scaled dot product attention\n",
        "*   Concatenation of heads\n",
        "*   Final linear layer\n",
        "\n",
        "When using Model subclassing with Functional API, inputs has to be kept a single argument, hence wrap query, key and value as dictionary.\n",
        "\n",
        "Instead of single attention head, query, key and value are split into multiple heads so that model can jointly attend to information at diffenrent postion from different representational spaces. Linearly projecting queries, keys and values multiple times.\n",
        "\n",
        "\n",
        "\n"
      ]
    },
    {
      "cell_type": "code",
      "metadata": {
        "id": "7YQu2lJjPMLT",
        "colab_type": "code",
        "colab": {}
      },
      "source": [
        "class MultiHeadAttention(tf.keras.layers.Layer):\n",
        "  def __init__(self, num_heads, d_model, name=\"multi_head_attention\"):\n",
        "    super(MultiHeadAttention, self).__init__(name=name)\n",
        "    self.d_model = d_model\n",
        "    self.num_heads = num_heads\n",
        "    \n",
        "    assert d_model % self.num_heads == 0\n",
        "    \n",
        "    self.depth = self.d_model // self.num_heads\n",
        "    \n",
        "    self.query_dense = tf.keras.layers.Dense(units=self.d_model)\n",
        "    self.key_dense = tf.keras.layers.Dense(units=self.d_model)\n",
        "    self.value_dense = tf.keras.layers.Dense(units=self.d_model)\n",
        "    \n",
        "    self.dense = tf.keras.layers.Dense(units=self.d_model)\n",
        "    \n",
        "  def split_heads(self, inputs, batch_size):\n",
        "    inputs = tf.reshape(inputs,\n",
        "                        shape=(batch_size, -1, self.num_heads, self.depth))\n",
        "    return tf.transpose(inputs, perm=[0, 2, 1, 3])\n",
        "  \n",
        "  def call(self, inputs):\n",
        "    # extract query, key and value\n",
        "    query = inputs['query']\n",
        "    key = inputs['key']\n",
        "    value = inputs['value']\n",
        "    mask = inputs['mask']\n",
        "    batch_size = tf.shape(value)[0]\n",
        "    \n",
        "    # linear\n",
        "    query = self.query_dense(query)\n",
        "    key  = self.key_dense(key)\n",
        "    value = self.value_dense(value)\n",
        "    \n",
        "    # split heads\n",
        "    query = self.split_heads(query, batch_size)\n",
        "    key = self.split_heads(key, batch_size)\n",
        "    value = self.split_heads(value, batch_size)\n",
        "    \n",
        "    # scaled dot attention\n",
        "    scaled_attention = scaled_dot_attention(query, key, value, mask)\n",
        "    \n",
        "    scaled_attention = tf.transpose(scaled_attention, perm=[0, 2, 1, 3])\n",
        "    \n",
        "    # concatenation of heads\n",
        "    concat_attention = tf.reshape(scaled_attention,\n",
        "                                  shape=(batch_size, -1, self.d_model))\n",
        "    \n",
        "    #final linear layer\n",
        "    outs = self.dense(concat_attention)\n",
        "    return outs\n",
        "    "
      ],
      "execution_count": 0,
      "outputs": []
    },
    {
      "cell_type": "markdown",
      "metadata": {
        "id": "LiIl28aYe7xs",
        "colab_type": "text"
      },
      "source": [
        "**Positional Encoding**\n",
        "\n",
        "Since, the model contains no convolution or recurrence. They injected positional information by adding positional encodings to the input embeddings."
      ]
    },
    {
      "cell_type": "code",
      "metadata": {
        "id": "UjRNO_4fedox",
        "colab_type": "code",
        "colab": {}
      },
      "source": [
        "\n",
        "class PositionalEncoding(tf.keras.layers.Layer):\n",
        "\n",
        "  def __init__(self, position, d_model):\n",
        "    super(PositionalEncoding, self).__init__()\n",
        "    self.pos_encoding = self.positional_encoding(position, d_model)\n",
        "\n",
        "  def get_angles(self, position, i, d_model):\n",
        "    angles = 1 / tf.pow(10000, (2 * (i // 2)) / tf.cast(d_model, tf.float32))\n",
        "    return position * angles\n",
        "\n",
        "  def positional_encoding(self, position, d_model):\n",
        "    angle_rads = self.get_angles(\n",
        "        position=tf.range(position, dtype=tf.float32)[:, tf.newaxis],\n",
        "        i=tf.range(d_model, dtype=tf.float32)[tf.newaxis, :],\n",
        "        d_model=d_model)\n",
        "    # apply sin to even index in the array\n",
        "    sines = tf.math.sin(angle_rads[:, 0::2])\n",
        "    # apply cos to odd index in the array\n",
        "    cosines = tf.math.cos(angle_rads[:, 1::2])\n",
        "\n",
        "    pos_encoding = tf.concat([sines, cosines], axis=-1)\n",
        "    pos_encoding = pos_encoding[tf.newaxis, ...]\n",
        "    return tf.cast(pos_encoding, tf.float32)\n",
        "\n",
        "  def call(self, inputs):\n",
        "    return inputs + self.pos_encoding[:, :tf.shape(inputs)[1], :]"
      ],
      "execution_count": 0,
      "outputs": []
    },
    {
      "cell_type": "code",
      "metadata": {
        "id": "c0-zc7UKkNqh",
        "colab_type": "code",
        "colab": {
          "base_uri": "https://localhost:8080/",
          "height": 283
        },
        "outputId": "9d8184df-09ce-4e6a-fba3-782490fd26a0"
      },
      "source": [
        "sample_pos_encoding = PositionalEncoding(50, 512)\n",
        "\n",
        "plt.pcolormesh(sample_pos_encoding.pos_encoding.numpy()[0], cmap='RdBu')\n",
        "plt.xlabel('Depth')\n",
        "plt.xlim((0, 512))\n",
        "plt.ylabel('Position')\n",
        "plt.colorbar()\n",
        "plt.show()"
      ],
      "execution_count": 55,
      "outputs": [
        {
          "output_type": "display_data",
          "data": {
            "image/png": "[encoded data removed]",
            "text/plain": [
              "<Figure size 432x288 with 2 Axes>"
            ]
          },
          "metadata": {
            "tags": []
          }
        }
      ]
    },
    {
      "cell_type": "code",
      "metadata": {
        "id": "T1Kb2VnwkRB_",
        "colab_type": "code",
        "colab": {}
      },
      "source": [
        ""
      ],
      "execution_count": 0,
      "outputs": []
    }
  ]
}