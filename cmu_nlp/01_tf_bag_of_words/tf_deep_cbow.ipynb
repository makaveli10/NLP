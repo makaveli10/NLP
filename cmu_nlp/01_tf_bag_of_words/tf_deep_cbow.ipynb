{
 "cells": [
  {
   "cell_type": "code",
   "execution_count": 1,
   "metadata": {},
   "outputs": [],
   "source": [
    "import tensorflow as tf\n",
    "import time\n",
    "import random\n",
    "import numpy as np\n",
    "import os\n",
    "from collections import defaultdict\n",
    "from models import tf_Deep_CBow"
   ]
  },
  {
   "cell_type": "code",
   "execution_count": 2,
   "metadata": {},
   "outputs": [],
   "source": [
    "w2i = defaultdict(lambda: len(w2i))\n",
    "t2i = defaultdict(lambda: len(t2i))\n",
    "UNK = w2i[\"<unk>\"]"
   ]
  },
  {
   "cell_type": "code",
   "execution_count": 3,
   "metadata": {},
   "outputs": [],
   "source": [
    "def read_dataset(filename):\n",
    "    with open(filename, \"r\") as f:\n",
    "        for line in f:\n",
    "            tag, words = line.lower().strip().split(\" ||| \")\n",
    "            yield ([w2i[x] for x in words.split(\" \")], t2i[tag])"
   ]
  },
  {
   "cell_type": "code",
   "execution_count": 4,
   "metadata": {},
   "outputs": [],
   "source": [
    "train = list(read_dataset('../data/classes/train.txt'))\n",
    "w2i = defaultdict(lambda: UNK, w2i)\n",
    "dev = list(read_dataset('../data/classes/test.txt'))\n",
    "nwords = len(w2i)\n",
    "ntags = len(t2i)"
   ]
  },
  {
   "cell_type": "code",
   "execution_count": 5,
   "metadata": {},
   "outputs": [],
   "source": [
    "# initialise model\n",
    "EMB_SIZE = 64\n",
    "HID_SIZE = 64\n",
    "N_LAYERS = 2\n",
    "model = tf_Deep_CBow(nwords, ntags, EMB_SIZE, N_LAYERS, HID_SIZE)\n",
    "optimizer = tf.keras.optimizers.Adam()\n",
    "loss_fn = tf.keras.losses.SparseCategoricalCrossentropy(from_logits=True)"
   ]
  },
  {
   "cell_type": "code",
   "execution_count": 6,
   "metadata": {},
   "outputs": [],
   "source": [
    "@tf.function(experimental_relax_shapes=True)\n",
    "def train_step(words, tag):\n",
    "    with tf.GradientTape() as tape:\n",
    "        scores = model(words)\n",
    "        loss = loss_fn(tag, scores)\n",
    "    grads = tape.gradient(loss, model.trainable_variables)\n",
    "    optimizer.apply_gradients(zip(grads, model.trainable_variables))\n",
    "    return loss"
   ]
  },
  {
   "cell_type": "code",
   "execution_count": 7,
   "metadata": {},
   "outputs": [
    {
     "name": "stdout",
     "output_type": "stream",
     "text": [
      "Epoch 0: train loss/sent=0.0001, time=108.69s\n",
      "epoch 0: test acc=0.3982\n",
      "Epoch 1: train loss/sent=0.0002, time=103.08s\n",
      "epoch 1: test acc=0.3611\n",
      "Epoch 2: train loss/sent=0.0002, time=107.53s\n",
      "epoch 2: test acc=0.3864\n",
      "Epoch 3: train loss/sent=0.0000, time=157.55s\n",
      "epoch 3: test acc=0.4050\n",
      "Epoch 4: train loss/sent=0.0001, time=134.65s\n",
      "epoch 4: test acc=0.3756\n",
      "Epoch 5: train loss/sent=0.0001, time=130.49s\n",
      "epoch 5: test acc=0.3910\n",
      "Epoch 6: train loss/sent=0.0002, time=140.05s\n",
      "epoch 6: test acc=0.3928\n",
      "Epoch 7: train loss/sent=0.0001, time=129.39s\n",
      "epoch 7: test acc=0.3751\n",
      "Epoch 8: train loss/sent=0.0003, time=123.39s\n",
      "epoch 8: test acc=0.3688\n",
      "Epoch 9: train loss/sent=0.0000, time=108.87s\n",
      "epoch 9: test acc=0.3787\n"
     ]
    }
   ],
   "source": [
    "for epoch in range(10):\n",
    "    random.shuffle(train)\n",
    "    start_time = time.time()\n",
    "    train_loss = 0.0\n",
    "    for words, tag in train:\n",
    "        words = tf.constant(words, dtype=tf.float32)\n",
    "        tag = tf.constant([tag], dtype=tf.float32)\n",
    "        loss = train_step(words, tag)\n",
    "    train_loss += loss.numpy()\n",
    "    print(\"Epoch %r: train loss/sent=%.4f, time=%.2fs\" % (\n",
    "                epoch, train_loss/len(train), time.time()-start_time))\n",
    "    test_correct = 0\n",
    "    for words, tag in dev:\n",
    "        words = tf.constant(words, dtype=tf.float32)\n",
    "        tag = tf.constant([tag], dtype=tf.float32)\n",
    "        scores = model(words)[0].numpy()\n",
    "        predict = np.argmax(scores)\n",
    "        if predict == tag:\n",
    "            test_correct += 1\n",
    "    print(\"epoch %r: test acc=%.4f\" % (epoch, test_correct/len(dev)))"
   ]
  }
 ],
 "metadata": {
  "kernelspec": {
   "display_name": "Python 3",
   "language": "python",
   "name": "python3"
  },
  "language_info": {
   "codemirror_mode": {
    "name": "ipython",
    "version": 3
   },
   "file_extension": ".py",
   "mimetype": "text/x-python",
   "name": "python",
   "nbconvert_exporter": "python",
   "pygments_lexer": "ipython3",
   "version": "3.7.3"
  }
 },
 "nbformat": 4,
 "nbformat_minor": 2
}
